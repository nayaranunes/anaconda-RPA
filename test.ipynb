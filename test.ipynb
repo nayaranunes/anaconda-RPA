{
 "cells": [
  {
   "cell_type": "code",
   "execution_count": 34,
   "id": "ae7d7da4",
   "metadata": {},
   "outputs": [],
   "source": [
    "import pyautogui\n",
    "import time \n",
    "\n",
    "pyautogui.hotkey('command','t')\n",
    "time.sleep(1)\n",
    "pyautogui.write(\"https://www.google.com.br\")\n",
    "pyautogui.press('enter')\n",
    "time.sleep(2)\n",
    "pyautogui.click(x=1220, y=261)"
   ]
  },
  {
   "cell_type": "code",
   "execution_count": null,
   "id": "0ff4b035",
   "metadata": {},
   "outputs": [],
   "source": []
  }
 ],
 "metadata": {
  "kernelspec": {
   "display_name": "Python 3 (ipykernel)",
   "language": "python",
   "name": "python3"
  },
  "language_info": {
   "codemirror_mode": {
    "name": "ipython",
    "version": 3
   },
   "file_extension": ".py",
   "mimetype": "text/x-python",
   "name": "python",
   "nbconvert_exporter": "python",
   "pygments_lexer": "ipython3",
   "version": "3.11.4"
  }
 },
 "nbformat": 4,
 "nbformat_minor": 5
}
